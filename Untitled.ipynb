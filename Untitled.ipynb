{
 "cells": [
  {
   "cell_type": "markdown",
   "id": "57d2bb9e",
   "metadata": {},
   "source": [
    "# Kevin Cookie Company\n",
    " Group 6:\n",
    "Manyara Bonface, Levine Nakhone, Victor Mwatu, Franklin Muchiri, Betshua Kerubo, Lewis Mawira\n",
    "\n",
    "***"
   ]
  },
  {
   "cell_type": "markdown",
   "id": "819ed458",
   "metadata": {},
   "source": [
    "<div>\n",
    "<center><img src=\"kck.jpg\" height=\"300\"/></center>\n",
    "</div>"
   ]
  },
  {
   "cell_type": "markdown",
   "id": "af0884d1",
   "metadata": {},
   "source": [
    "## 1. Overview\n",
    "\n",
    "Kevin Cookie Company is a company that produces and sells cookies, as the name suggests. Using its data this is an exploratory analysis to develop a model that can help improve its sales and thus profitability."
   ]
  },
  {
   "cell_type": "markdown",
   "id": "e72d5bbb",
   "metadata": {},
   "source": [
    "# 2. Business Understanding\n",
    "The business problem in this case involves, identifying the selling cookie products which is crucial to focus on promoting and producing items that maximize sales and revenue.Evaluating the profitability of cookie products considering production costs helps prioritize those that yield the profits and contribute to overall profitability.Analyzing sales trends over time allows us to identify patterns enabling inventory planning and tailored marketing strategies based on increased demand, for certain products during specific months or years.\n"
   ]
  },
  {
   "cell_type": "markdown",
   "id": "2381ec8b",
   "metadata": {},
   "source": [
    "# 3. Data Understanding\n",
    "\n",
    "Below is an exploration of the available data"
   ]
  },
  {
   "cell_type": "code",
   "execution_count": 4,
   "id": "2155acd2",
   "metadata": {},
   "outputs": [],
   "source": [
    "import  pandas as pd\n",
    "from sklearn.linear_model import LinearRegression\n",
    "from sklearn.model_selection import train_test_split\n",
    "from sklearn.preprocessing import LabelEncoder"
   ]
  },
  {
   "cell_type": "code",
   "execution_count": 5,
   "id": "f66e4a3f",
   "metadata": {},
   "outputs": [
    {
     "data": {
      "text/html": [
       "<div>\n",
       "<style scoped>\n",
       "    .dataframe tbody tr th:only-of-type {\n",
       "        vertical-align: middle;\n",
       "    }\n",
       "\n",
       "    .dataframe tbody tr th {\n",
       "        vertical-align: top;\n",
       "    }\n",
       "\n",
       "    .dataframe thead th {\n",
       "        text-align: right;\n",
       "    }\n",
       "</style>\n",
       "<table border=\"1\" class=\"dataframe\">\n",
       "  <thead>\n",
       "    <tr style=\"text-align: right;\">\n",
       "      <th></th>\n",
       "      <th>Country</th>\n",
       "      <th>Product</th>\n",
       "      <th>Units Sold</th>\n",
       "      <th>Revenue per cookie</th>\n",
       "      <th>Cost per cookie</th>\n",
       "      <th>Revenue</th>\n",
       "      <th>Cost</th>\n",
       "      <th>Profit</th>\n",
       "      <th>Date</th>\n",
       "      <th>Month Number</th>\n",
       "      <th>Month Name</th>\n",
       "      <th>Year</th>\n",
       "    </tr>\n",
       "  </thead>\n",
       "  <tbody>\n",
       "    <tr>\n",
       "      <th>0</th>\n",
       "      <td>Canada</td>\n",
       "      <td>Chocolate Chip</td>\n",
       "      <td>$292.00</td>\n",
       "      <td>$5.00</td>\n",
       "      <td>$2.00</td>\n",
       "      <td>$1,460.00</td>\n",
       "      <td>$584.00</td>\n",
       "      <td>$876.00</td>\n",
       "      <td>01/02/2019</td>\n",
       "      <td>2</td>\n",
       "      <td>February</td>\n",
       "      <td>2019</td>\n",
       "    </tr>\n",
       "    <tr>\n",
       "      <th>1</th>\n",
       "      <td>Mexico</td>\n",
       "      <td>Chocolate Chip</td>\n",
       "      <td>$974.00</td>\n",
       "      <td>$5.00</td>\n",
       "      <td>$2.00</td>\n",
       "      <td>$4,870.00</td>\n",
       "      <td>$1,948.00</td>\n",
       "      <td>$2,922.00</td>\n",
       "      <td>01/02/2019</td>\n",
       "      <td>2</td>\n",
       "      <td>February</td>\n",
       "      <td>2019</td>\n",
       "    </tr>\n",
       "    <tr>\n",
       "      <th>2</th>\n",
       "      <td>Canada</td>\n",
       "      <td>Chocolate Chip</td>\n",
       "      <td>$2,518.00</td>\n",
       "      <td>$5.00</td>\n",
       "      <td>$2.00</td>\n",
       "      <td>$12,590.00</td>\n",
       "      <td>$5,036.00</td>\n",
       "      <td>$7,554.00</td>\n",
       "      <td>01/06/2019</td>\n",
       "      <td>6</td>\n",
       "      <td>June</td>\n",
       "      <td>2019</td>\n",
       "    </tr>\n",
       "    <tr>\n",
       "      <th>3</th>\n",
       "      <td>Germany</td>\n",
       "      <td>Chocolate Chip</td>\n",
       "      <td>$1,006.00</td>\n",
       "      <td>$5.00</td>\n",
       "      <td>$2.00</td>\n",
       "      <td>$5,030.00</td>\n",
       "      <td>$2,012.00</td>\n",
       "      <td>$3,018.00</td>\n",
       "      <td>01/06/2019</td>\n",
       "      <td>6</td>\n",
       "      <td>June</td>\n",
       "      <td>2019</td>\n",
       "    </tr>\n",
       "    <tr>\n",
       "      <th>4</th>\n",
       "      <td>Germany</td>\n",
       "      <td>Chocolate Chip</td>\n",
       "      <td>$367.00</td>\n",
       "      <td>$5.00</td>\n",
       "      <td>$2.00</td>\n",
       "      <td>$1,835.00</td>\n",
       "      <td>$734.00</td>\n",
       "      <td>$1,101.00</td>\n",
       "      <td>01/07/2019</td>\n",
       "      <td>7</td>\n",
       "      <td>July</td>\n",
       "      <td>2019</td>\n",
       "    </tr>\n",
       "  </tbody>\n",
       "</table>\n",
       "</div>"
      ],
      "text/plain": [
       "   Country          Product   Units Sold   Revenue per cookie    \n",
       "0   Canada   Chocolate Chip      $292.00                $5.00   \\\n",
       "1   Mexico   Chocolate Chip      $974.00                $5.00    \n",
       "2   Canada   Chocolate Chip    $2,518.00                $5.00    \n",
       "3  Germany   Chocolate Chip    $1,006.00                $5.00    \n",
       "4  Germany   Chocolate Chip      $367.00                $5.00    \n",
       "\n",
       "   Cost per cookie       Revenue         Cost       Profit         Date   \n",
       "0            $2.00     $1,460.00      $584.00      $876.00   01/02/2019  \\\n",
       "1            $2.00     $4,870.00    $1,948.00    $2,922.00   01/02/2019   \n",
       "2            $2.00    $12,590.00    $5,036.00    $7,554.00   01/06/2019   \n",
       "3            $2.00     $5,030.00    $2,012.00    $3,018.00   01/06/2019   \n",
       "4            $2.00     $1,835.00      $734.00    $1,101.00   01/07/2019   \n",
       "\n",
       "   Month Number  Month Name   Year  \n",
       "0             2    February   2019  \n",
       "1             2    February   2019  \n",
       "2             6        June   2019  \n",
       "3             6        June   2019  \n",
       "4             7        July   2019  "
      ]
     },
     "execution_count": 5,
     "metadata": {},
     "output_type": "execute_result"
    }
   ],
   "source": [
    "df = pd.read_csv('kevin cookie company.csv')\n",
    "df.head()"
   ]
  },
  {
   "cell_type": "code",
   "execution_count": 6,
   "id": "7309d2b8",
   "metadata": {},
   "outputs": [],
   "source": [
    "df.drop([ ' Units Sold ', ' Revenue per cookie ',\n",
    "       ' Cost per cookie ', ' Revenue ', ' Cost ', 'Date',\n",
    "       'Month Number', ' Month Name ', 'Year'], axis=1, inplace=True)"
   ]
  },
  {
   "cell_type": "code",
   "execution_count": 7,
   "id": "97660952",
   "metadata": {},
   "outputs": [
    {
     "data": {
      "text/html": [
       "<div>\n",
       "<style scoped>\n",
       "    .dataframe tbody tr th:only-of-type {\n",
       "        vertical-align: middle;\n",
       "    }\n",
       "\n",
       "    .dataframe tbody tr th {\n",
       "        vertical-align: top;\n",
       "    }\n",
       "\n",
       "    .dataframe thead th {\n",
       "        text-align: right;\n",
       "    }\n",
       "</style>\n",
       "<table border=\"1\" class=\"dataframe\">\n",
       "  <thead>\n",
       "    <tr style=\"text-align: right;\">\n",
       "      <th></th>\n",
       "      <th>Country</th>\n",
       "      <th>Product</th>\n",
       "      <th>Profit</th>\n",
       "    </tr>\n",
       "  </thead>\n",
       "  <tbody>\n",
       "    <tr>\n",
       "      <th>0</th>\n",
       "      <td>Canada</td>\n",
       "      <td>Chocolate Chip</td>\n",
       "      <td>$876.00</td>\n",
       "    </tr>\n",
       "    <tr>\n",
       "      <th>1</th>\n",
       "      <td>Mexico</td>\n",
       "      <td>Chocolate Chip</td>\n",
       "      <td>$2,922.00</td>\n",
       "    </tr>\n",
       "    <tr>\n",
       "      <th>2</th>\n",
       "      <td>Canada</td>\n",
       "      <td>Chocolate Chip</td>\n",
       "      <td>$7,554.00</td>\n",
       "    </tr>\n",
       "    <tr>\n",
       "      <th>3</th>\n",
       "      <td>Germany</td>\n",
       "      <td>Chocolate Chip</td>\n",
       "      <td>$3,018.00</td>\n",
       "    </tr>\n",
       "    <tr>\n",
       "      <th>4</th>\n",
       "      <td>Germany</td>\n",
       "      <td>Chocolate Chip</td>\n",
       "      <td>$1,101.00</td>\n",
       "    </tr>\n",
       "  </tbody>\n",
       "</table>\n",
       "</div>"
      ],
      "text/plain": [
       "   Country          Product       Profit \n",
       "0   Canada   Chocolate Chip      $876.00 \n",
       "1   Mexico   Chocolate Chip    $2,922.00 \n",
       "2   Canada   Chocolate Chip    $7,554.00 \n",
       "3  Germany   Chocolate Chip    $3,018.00 \n",
       "4  Germany   Chocolate Chip    $1,101.00 "
      ]
     },
     "execution_count": 7,
     "metadata": {},
     "output_type": "execute_result"
    }
   ],
   "source": [
    "df.head()"
   ]
  },
  {
   "cell_type": "code",
   "execution_count": 8,
   "id": "775d43b7",
   "metadata": {},
   "outputs": [
    {
     "data": {
      "text/html": [
       "<div>\n",
       "<style scoped>\n",
       "    .dataframe tbody tr th:only-of-type {\n",
       "        vertical-align: middle;\n",
       "    }\n",
       "\n",
       "    .dataframe tbody tr th {\n",
       "        vertical-align: top;\n",
       "    }\n",
       "\n",
       "    .dataframe thead th {\n",
       "        text-align: right;\n",
       "    }\n",
       "</style>\n",
       "<table border=\"1\" class=\"dataframe\">\n",
       "  <thead>\n",
       "    <tr style=\"text-align: right;\">\n",
       "      <th></th>\n",
       "      <th>Country</th>\n",
       "      <th>Product</th>\n",
       "      <th>Profit</th>\n",
       "    </tr>\n",
       "  </thead>\n",
       "  <tbody>\n",
       "    <tr>\n",
       "      <th>0</th>\n",
       "      <td>Canada</td>\n",
       "      <td>Chocolate Chip</td>\n",
       "      <td>876.0</td>\n",
       "    </tr>\n",
       "    <tr>\n",
       "      <th>1</th>\n",
       "      <td>Mexico</td>\n",
       "      <td>Chocolate Chip</td>\n",
       "      <td>2922.0</td>\n",
       "    </tr>\n",
       "    <tr>\n",
       "      <th>2</th>\n",
       "      <td>Canada</td>\n",
       "      <td>Chocolate Chip</td>\n",
       "      <td>7554.0</td>\n",
       "    </tr>\n",
       "    <tr>\n",
       "      <th>3</th>\n",
       "      <td>Germany</td>\n",
       "      <td>Chocolate Chip</td>\n",
       "      <td>3018.0</td>\n",
       "    </tr>\n",
       "    <tr>\n",
       "      <th>4</th>\n",
       "      <td>Germany</td>\n",
       "      <td>Chocolate Chip</td>\n",
       "      <td>1101.0</td>\n",
       "    </tr>\n",
       "  </tbody>\n",
       "</table>\n",
       "</div>"
      ],
      "text/plain": [
       "   Country          Product    Profit \n",
       "0   Canada   Chocolate Chip      876.0\n",
       "1   Mexico   Chocolate Chip     2922.0\n",
       "2   Canada   Chocolate Chip     7554.0\n",
       "3  Germany   Chocolate Chip     3018.0\n",
       "4  Germany   Chocolate Chip     1101.0"
      ]
     },
     "execution_count": 8,
     "metadata": {},
     "output_type": "execute_result"
    }
   ],
   "source": [
    "df[' Profit '] = df[' Profit '].replace({'\\$':'',',':''}, regex=True).astype(float)\n",
    "df.head()"
   ]
  },
  {
   "cell_type": "markdown",
   "id": "b416d2b2",
   "metadata": {},
   "source": [
    "### 3.1 Preprocessing the data and build a linear regression Model"
   ]
  },
  {
   "cell_type": "code",
   "execution_count": 10,
   "id": "48fa8eb1",
   "metadata": {},
   "outputs": [],
   "source": [
    "# Label encode the country and the cookies\n",
    "label_enc = LabelEncoder()\n",
    "df['Country'] = label_enc.fit_transform(df['Country'])\n",
    "df[' Product '] = label_enc.fit_transform(df[' Product '])\n"
   ]
  },
  {
   "cell_type": "code",
   "execution_count": 11,
   "id": "ace03dd0",
   "metadata": {},
   "outputs": [
    {
     "data": {
      "text/html": [
       "<div>\n",
       "<style scoped>\n",
       "    .dataframe tbody tr th:only-of-type {\n",
       "        vertical-align: middle;\n",
       "    }\n",
       "\n",
       "    .dataframe tbody tr th {\n",
       "        vertical-align: top;\n",
       "    }\n",
       "\n",
       "    .dataframe thead th {\n",
       "        text-align: right;\n",
       "    }\n",
       "</style>\n",
       "<table border=\"1\" class=\"dataframe\">\n",
       "  <thead>\n",
       "    <tr style=\"text-align: right;\">\n",
       "      <th></th>\n",
       "      <th>Country</th>\n",
       "      <th>Product</th>\n",
       "      <th>Profit</th>\n",
       "    </tr>\n",
       "  </thead>\n",
       "  <tbody>\n",
       "    <tr>\n",
       "      <th>0</th>\n",
       "      <td>0</td>\n",
       "      <td>0</td>\n",
       "      <td>876.0</td>\n",
       "    </tr>\n",
       "    <tr>\n",
       "      <th>1</th>\n",
       "      <td>3</td>\n",
       "      <td>0</td>\n",
       "      <td>2922.0</td>\n",
       "    </tr>\n",
       "    <tr>\n",
       "      <th>2</th>\n",
       "      <td>0</td>\n",
       "      <td>0</td>\n",
       "      <td>7554.0</td>\n",
       "    </tr>\n",
       "    <tr>\n",
       "      <th>3</th>\n",
       "      <td>2</td>\n",
       "      <td>0</td>\n",
       "      <td>3018.0</td>\n",
       "    </tr>\n",
       "    <tr>\n",
       "      <th>4</th>\n",
       "      <td>2</td>\n",
       "      <td>0</td>\n",
       "      <td>1101.0</td>\n",
       "    </tr>\n",
       "  </tbody>\n",
       "</table>\n",
       "</div>"
      ],
      "text/plain": [
       "   Country   Product    Profit \n",
       "0        0          0     876.0\n",
       "1        3          0    2922.0\n",
       "2        0          0    7554.0\n",
       "3        2          0    3018.0\n",
       "4        2          0    1101.0"
      ]
     },
     "execution_count": 11,
     "metadata": {},
     "output_type": "execute_result"
    }
   ],
   "source": [
    "df.head()"
   ]
  },
  {
   "cell_type": "code",
   "execution_count": 12,
   "id": "feb51a6e",
   "metadata": {},
   "outputs": [
    {
     "data": {
      "text/html": [
       "<style>#sk-container-id-1 {color: black;}#sk-container-id-1 pre{padding: 0;}#sk-container-id-1 div.sk-toggleable {background-color: white;}#sk-container-id-1 label.sk-toggleable__label {cursor: pointer;display: block;width: 100%;margin-bottom: 0;padding: 0.3em;box-sizing: border-box;text-align: center;}#sk-container-id-1 label.sk-toggleable__label-arrow:before {content: \"▸\";float: left;margin-right: 0.25em;color: #696969;}#sk-container-id-1 label.sk-toggleable__label-arrow:hover:before {color: black;}#sk-container-id-1 div.sk-estimator:hover label.sk-toggleable__label-arrow:before {color: black;}#sk-container-id-1 div.sk-toggleable__content {max-height: 0;max-width: 0;overflow: hidden;text-align: left;background-color: #f0f8ff;}#sk-container-id-1 div.sk-toggleable__content pre {margin: 0.2em;color: black;border-radius: 0.25em;background-color: #f0f8ff;}#sk-container-id-1 input.sk-toggleable__control:checked~div.sk-toggleable__content {max-height: 200px;max-width: 100%;overflow: auto;}#sk-container-id-1 input.sk-toggleable__control:checked~label.sk-toggleable__label-arrow:before {content: \"▾\";}#sk-container-id-1 div.sk-estimator input.sk-toggleable__control:checked~label.sk-toggleable__label {background-color: #d4ebff;}#sk-container-id-1 div.sk-label input.sk-toggleable__control:checked~label.sk-toggleable__label {background-color: #d4ebff;}#sk-container-id-1 input.sk-hidden--visually {border: 0;clip: rect(1px 1px 1px 1px);clip: rect(1px, 1px, 1px, 1px);height: 1px;margin: -1px;overflow: hidden;padding: 0;position: absolute;width: 1px;}#sk-container-id-1 div.sk-estimator {font-family: monospace;background-color: #f0f8ff;border: 1px dotted black;border-radius: 0.25em;box-sizing: border-box;margin-bottom: 0.5em;}#sk-container-id-1 div.sk-estimator:hover {background-color: #d4ebff;}#sk-container-id-1 div.sk-parallel-item::after {content: \"\";width: 100%;border-bottom: 1px solid gray;flex-grow: 1;}#sk-container-id-1 div.sk-label:hover label.sk-toggleable__label {background-color: #d4ebff;}#sk-container-id-1 div.sk-serial::before {content: \"\";position: absolute;border-left: 1px solid gray;box-sizing: border-box;top: 0;bottom: 0;left: 50%;z-index: 0;}#sk-container-id-1 div.sk-serial {display: flex;flex-direction: column;align-items: center;background-color: white;padding-right: 0.2em;padding-left: 0.2em;position: relative;}#sk-container-id-1 div.sk-item {position: relative;z-index: 1;}#sk-container-id-1 div.sk-parallel {display: flex;align-items: stretch;justify-content: center;background-color: white;position: relative;}#sk-container-id-1 div.sk-item::before, #sk-container-id-1 div.sk-parallel-item::before {content: \"\";position: absolute;border-left: 1px solid gray;box-sizing: border-box;top: 0;bottom: 0;left: 50%;z-index: -1;}#sk-container-id-1 div.sk-parallel-item {display: flex;flex-direction: column;z-index: 1;position: relative;background-color: white;}#sk-container-id-1 div.sk-parallel-item:first-child::after {align-self: flex-end;width: 50%;}#sk-container-id-1 div.sk-parallel-item:last-child::after {align-self: flex-start;width: 50%;}#sk-container-id-1 div.sk-parallel-item:only-child::after {width: 0;}#sk-container-id-1 div.sk-dashed-wrapped {border: 1px dashed gray;margin: 0 0.4em 0.5em 0.4em;box-sizing: border-box;padding-bottom: 0.4em;background-color: white;}#sk-container-id-1 div.sk-label label {font-family: monospace;font-weight: bold;display: inline-block;line-height: 1.2em;}#sk-container-id-1 div.sk-label-container {text-align: center;}#sk-container-id-1 div.sk-container {/* jupyter's `normalize.less` sets `[hidden] { display: none; }` but bootstrap.min.css set `[hidden] { display: none !important; }` so we also need the `!important` here to be able to override the default hidden behavior on the sphinx rendered scikit-learn.org. See: https://github.com/scikit-learn/scikit-learn/issues/21755 */display: inline-block !important;position: relative;}#sk-container-id-1 div.sk-text-repr-fallback {display: none;}</style><div id=\"sk-container-id-1\" class=\"sk-top-container\"><div class=\"sk-text-repr-fallback\"><pre>LinearRegression()</pre><b>In a Jupyter environment, please rerun this cell to show the HTML representation or trust the notebook. <br />On GitHub, the HTML representation is unable to render, please try loading this page with nbviewer.org.</b></div><div class=\"sk-container\" hidden><div class=\"sk-item\"><div class=\"sk-estimator sk-toggleable\"><input class=\"sk-toggleable__control sk-hidden--visually\" id=\"sk-estimator-id-1\" type=\"checkbox\" checked><label for=\"sk-estimator-id-1\" class=\"sk-toggleable__label sk-toggleable__label-arrow\">LinearRegression</label><div class=\"sk-toggleable__content\"><pre>LinearRegression()</pre></div></div></div></div></div>"
      ],
      "text/plain": [
       "LinearRegression()"
      ]
     },
     "execution_count": 12,
     "metadata": {},
     "output_type": "execute_result"
    }
   ],
   "source": [
    "# Separate X and y\n",
    "y = df[' Profit ']\n",
    "X = df.drop(' Profit ', axis=1)\n",
    "\n",
    "# perform Linear regression\n",
    "# Split the data\n",
    "X_train, X_test, y_train, y_test = train_test_split(X, y, random_state=42, test_size=0.25)\n",
    "\n",
    "#Create and train the model\n",
    "regressor = LinearRegression()\n",
    "regressor.fit(X_train, y_train)"
   ]
  },
  {
   "cell_type": "code",
   "execution_count": 13,
   "id": "7ca231b7",
   "metadata": {},
   "outputs": [
    {
     "name": "stdout",
     "output_type": "stream",
     "text": [
      "Training R-squared: 0.019\n",
      "Testing R-squared: -0.041\n"
     ]
    }
   ],
   "source": [
    "# Evaluate the model\n",
    "# Calculate the coefficient of determination (R-squared) on the training and testing sets\n",
    "train_r2 = regressor.score(X_train, y_train)\n",
    "test_r2 = regressor.score(X_test, y_test)\n",
    "\n",
    "print(f'Training R-squared: {train_r2:.3f}')\n",
    "print(f'Testing R-squared: {test_r2:.3f}')"
   ]
  },
  {
   "cell_type": "code",
   "execution_count": 14,
   "id": "082fd199",
   "metadata": {},
   "outputs": [
    {
     "name": "stdout",
     "output_type": "stream",
     "text": [
      "     Actual Profit  Predicted Profit\n",
      "158        4077.00       4215.546921\n",
      "500        5034.75       3637.814158\n",
      "396        3025.00       3622.801545\n",
      "155        2715.00       4056.101117\n",
      "321        1545.60       4245.572148\n",
      "..             ...               ...\n",
      "618        7900.75       3812.272576\n",
      "579         470.75       3956.705766\n",
      "231        2280.80       4390.005339\n",
      "336        1982.40       4245.572148\n",
      "656        4247.75       3493.380967\n",
      "\n",
      "[175 rows x 2 columns]\n"
     ]
    }
   ],
   "source": [
    "# Step 6: Make predictions\n",
    "# Predict the profits for the testing set\n",
    "y_pred = regressor.predict(X_test)\n",
    "\n",
    "# Compare the actual profits with the predicted profits\n",
    "predictions_df = pd.DataFrame({'Actual Profit': y_test, 'Predicted Profit': y_pred})\n",
    "print(predictions_df)"
   ]
  },
  {
   "cell_type": "code",
   "execution_count": 15,
   "id": "2a06ac99",
   "metadata": {},
   "outputs": [
    {
     "name": "stdout",
     "output_type": "stream",
     "text": [
      "Mean Squared Error (MSE): 8403487.756\n"
     ]
    }
   ],
   "source": [
    "from sklearn.metrics import mean_squared_error\n",
    "y_pred = regressor.predict(X_test)\n",
    "mse = mean_squared_error(y_test, y_pred)\n",
    "\n",
    "print(f'Mean Squared Error (MSE): {mse:.3f}')"
   ]
  },
  {
   "cell_type": "markdown",
   "id": "f7801639",
   "metadata": {},
   "source": [
    "# 4. Results \n",
    "The model was built successfuly and was able to predict profits, albeit a major overfitting problem."
   ]
  }
 ],
 "metadata": {
  "kernelspec": {
   "display_name": "Python(learn-env)",
   "language": "python",
   "name": "learn-env"
  },
  "language_info": {
   "codemirror_mode": {
    "name": "ipython",
    "version": 3
   },
   "file_extension": ".py",
   "mimetype": "text/x-python",
   "name": "python",
   "nbconvert_exporter": "python",
   "pygments_lexer": "ipython3",
   "version": "3.10.11"
  }
 },
 "nbformat": 4,
 "nbformat_minor": 5
}
